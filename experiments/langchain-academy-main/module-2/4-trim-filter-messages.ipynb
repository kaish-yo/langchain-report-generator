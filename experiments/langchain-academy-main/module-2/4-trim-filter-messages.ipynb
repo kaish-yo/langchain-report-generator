{
 "cells": [
  {
   "cell_type": "markdown",
   "id": "c52ea2f9-03ff-4647-b782-46867ebed04e",
   "metadata": {},
   "source": [
    "# Filtering and trimming messages\n",
    "\n",
    "## Review\n",
    "\n",
    "Now, we have a deeper understanding of a few things: \n",
    "\n",
    "* How to customize the graph state schema\n",
    "* How to define custom state reducers\n",
    "* How to use multiple graph state schemas\n",
    "\n",
    "## Goals\n",
    "\n",
    "Now, we can start using these concepts with models in LangGraph!\n",
    " \n",
    "In the next few sessions, we'll build towards a chatbot that has long-term memory.\n",
    "\n",
    "Because our chatbot will use messages, let's first talk a bit more about advanced ways to work with messages in graph state."
   ]
  },
  {
   "cell_type": "code",
   "execution_count": 3,
   "id": "d5197aba-5d46-421b-ae3b-4e3034edcfda",
   "metadata": {},
   "outputs": [],
   "source": [
    "# %%capture --no-stderr\n",
    "# %pip install --quiet -U langchain_core langgraph langchain_openai"
   ]
  },
  {
   "cell_type": "code",
   "execution_count": 4,
   "id": "768dc606-d5f2-468d-96ea-910b264e0f8a",
   "metadata": {},
   "outputs": [],
   "source": [
    "import os\n",
    "from dotenv import load_dotenv\n",
    "\n",
    "load_dotenv()\n",
    "\n",
    "# Set for tracing\n",
    "os.environ[\"LANGCHAIN_TRACING_V2\"] = \"true\"\n",
    "os.environ[\"LANGCHAIN_PROJECT\"] = \"LangChain Academy-LangGraph\""
   ]
  },
  {
   "cell_type": "markdown",
   "id": "8b64d8d3-e4ac-4961-bdc0-688825eb5864",
   "metadata": {},
   "source": [
    "We'll use [LangSmith](https://docs.smith.langchain.com/) for [tracing](https://docs.smith.langchain.com/concepts/tracing).\n",
    "\n",
    "We'll log to a project, `langchain-academy`. "
   ]
  },
  {
   "cell_type": "code",
   "execution_count": 5,
   "id": "dd020c79",
   "metadata": {},
   "outputs": [],
   "source": [
    "# _set_env(\"LANGCHAIN_API_KEY\")\n",
    "# os.environ[\"LANGCHAIN_TRACING_V2\"] = \"true\"\n",
    "# os.environ[\"LANGCHAIN_PROJECT\"] = \"langchain-academy\""
   ]
  },
  {
   "cell_type": "code",
   "execution_count": null,
   "id": "30d88bb5",
   "metadata": {},
   "outputs": [],
   "source": []
  },
  {
   "cell_type": "markdown",
   "id": "72f3fc90-58b6-4f7f-897e-dddf6ae532c7",
   "metadata": {},
   "source": [
    "## Messages as state\n",
    "\n",
    "First, let's define some messages."
   ]
  },
  {
   "cell_type": "code",
   "execution_count": 6,
   "id": "cf11a463-e27a-4a05-b41d-64882e38edca",
   "metadata": {},
   "outputs": [
    {
     "name": "stdout",
     "output_type": "stream",
     "text": [
      "==================================\u001b[1m Ai Message \u001b[0m==================================\n",
      "Name: Bot\n",
      "\n",
      "So you said you were researching ocean mammals?\n",
      "================================\u001b[1m Human Message \u001b[0m=================================\n",
      "Name: Lance\n",
      "\n",
      "Yes, I know about whales. But what others should I learn about?\n"
     ]
    }
   ],
   "source": [
    "from pprint import pprint\n",
    "from langchain_core.messages import AIMessage, HumanMessage\n",
    "messages = [AIMessage(f\"So you said you were researching ocean mammals?\", name=\"Bot\")]\n",
    "messages.append(HumanMessage(f\"Yes, I know about whales. But what others should I learn about?\", name=\"Lance\"))\n",
    "\n",
    "for m in messages:\n",
    "    m.pretty_print()"
   ]
  },
  {
   "cell_type": "markdown",
   "id": "b814adcb-6bf9-4b75-be11-e59f933fbd0c",
   "metadata": {},
   "source": [
    "Recall we can pass them to a chat model."
   ]
  },
  {
   "cell_type": "code",
   "execution_count": 7,
   "id": "4712e288-e622-48a2-ad3f-a52f65f3ab08",
   "metadata": {},
   "outputs": [
    {
     "data": {
      "text/plain": [
       "AIMessage(content='That\\'s great that you\\'re already familiar with whales! There are many fascinating ocean mammals to explore beyond whales. Here are a few you might find interesting:\\n\\n1. **Dolphins**: Known for their intelligence and playful behavior, dolphins are part of the cetacean family, like whales. There are numerous species, including the bottlenose dolphin and the orca, or killer whale, which is actually the largest member of the dolphin family.\\n\\n2. **Seals**: These pinnipeds are divided into two families: the earless seals (true seals) and the eared seals (which include sea lions and fur seals). They are known for their streamlined bodies and ability to live both in the water and on land.\\n\\n3. **Sea Lions**: Often confused with seals, sea lions have external ear flaps and use their large front flippers to \"walk\" on land. They are social and often seen in groups.\\n\\n4. **Walruses**: These large pinnipeds are recognizable by their long tusks, whiskers, and bulk. They live in Arctic regions and are known for their unique vocalizations and social behavior.\\n\\n5. **Manatees and Dugongs**: These sirenians are often referred to as \"sea cows\" due to their slow-moving, gentle nature and herbivorous diet. Manatees are found in the Atlantic Ocean, while dugongs are found in the Indian and Pacific Oceans.\\n\\n6. **Sea Otters**: Although not as fully aquatic as some other marine mammals, sea otters are fascinating creatures known for their use of tools to open shellfish and their role in maintaining kelp forest ecosystems.\\n\\n7. **Polar Bears**: While primarily land animals, polar bears are considered marine mammals because they spend much of their time hunting on sea ice and swimming in Arctic waters.\\n\\n8. **Narwhals**: Known as the \"unicorns of the sea,\" narwhals are a type of whale famous for the long, spiral tusk that protrudes from the males\\' heads.\\n\\n9. **Porpoises**: Similar to dolphins but generally smaller and with different body shapes and behaviors, porpoises are another interesting group of cetaceans worth studying.\\n\\nEach of these ocean mammals has unique adaptations and behaviors that make them fascinating subjects of study. Enjoy your research!', additional_kwargs={'refusal': None}, response_metadata={'token_usage': {'completion_tokens': 475, 'prompt_tokens': 39, 'total_tokens': 514, 'completion_tokens_details': {'reasoning_tokens': 0}}, 'model_name': 'gpt-4o-2024-05-13', 'system_fingerprint': 'fp_25624ae3a5', 'finish_reason': 'stop', 'logprobs': None}, id='run-a41836a6-5f95-4ef6-92b8-eea45fefad44-0', usage_metadata={'input_tokens': 39, 'output_tokens': 475, 'total_tokens': 514})"
      ]
     },
     "execution_count": 7,
     "metadata": {},
     "output_type": "execute_result"
    }
   ],
   "source": [
    "from langchain_openai import ChatOpenAI\n",
    "llm = ChatOpenAI(model=\"gpt-4o\")\n",
    "llm.invoke(messages)"
   ]
  },
  {
   "cell_type": "markdown",
   "id": "fbd1dab8-0af8-4621-8264-ce65065f76ec",
   "metadata": {},
   "source": [
    "We can run our chat model in a simple graph with `MessagesState`."
   ]
  },
  {
   "cell_type": "code",
   "execution_count": 9,
   "id": "bbd8c39c-633b-4176-9cc6-8318e42bb5dd",
   "metadata": {},
   "outputs": [
    {
     "data": {
      "image/jpeg": "[encoded data removed]",
      "text/plain": [
       "<IPython.core.display.Image object>"
      ]
     },
     "metadata": {},
     "output_type": "display_data"
    }
   ],
   "source": [
    "from IPython.display import Image, display\n",
    "from langgraph.graph import MessagesState\n",
    "from langgraph.graph import StateGraph, START, END\n",
    "\n",
    "# Node\n",
    "def chat_model_node(state: MessagesState):\n",
    "    return {\"messages\": llm.invoke(state[\"messages\"])}\n",
    "\n",
    "# Build graph\n",
    "builder = StateGraph(MessagesState)\n",
    "builder.add_node(\"chat_model\", chat_model_node)\n",
    "builder.add_edge(START, \"chat_model\")\n",
    "builder.add_edge(\"chat_model\", END)\n",
    "graph = builder.compile()\n",
    "\n",
    "# View\n",
    "display(Image(graph.get_graph().draw_mermaid_png()))"
   ]
  },
  {
   "cell_type": "code",
   "execution_count": 10,
   "id": "3a5a3e4a-ccfd-4d14-81f1-f0de6e11a1e4",
   "metadata": {},
   "outputs": [
    {
     "name": "stdout",
     "output_type": "stream",
     "text": [
      "==================================\u001b[1m Ai Message \u001b[0m==================================\n",
      "Name: Bot\n",
      "\n",
      "So you said you were researching ocean mammals?\n",
      "================================\u001b[1m Human Message \u001b[0m=================================\n",
      "Name: Lance\n",
      "\n",
      "Yes, I know about whales. But what others should I learn about?\n",
      "==================================\u001b[1m Ai Message \u001b[0m==================================\n",
      "\n",
      "That's great that you know about whales! There are several other fascinating ocean mammals you might want to learn about. Here are a few:\n",
      "\n",
      "1. **Dolphins**: These intelligent and social creatures are closely related to whales. There are many species of dolphins, including the well-known bottlenose dolphin.\n",
      "\n",
      "2. **Porpoises**: Often confused with dolphins, porpoises are generally smaller and have different physical characteristics, such as a more rounded snout and spade-shaped teeth.\n",
      "\n",
      "3. **Seals**: These semi-aquatic marine mammals are part of the pinniped family, which also includes sea lions and walruses. Common species include the harbor seal and the gray seal.\n",
      "\n",
      "4. **Sea Lions**: Unlike true seals, sea lions have external ear flaps and large flippers that they use to \"walk\" on land. The California sea lion is perhaps the most well-known.\n",
      "\n",
      "5. **Walruses**: Recognizable by their long tusks, walruses are large pinnipeds that live in Arctic regions. They use their tusks for various purposes, including hauling themselves out of the water and for defense.\n",
      "\n",
      "6. **Manatees and Dugongs**: These gentle giants are part of the order Sirenia. Manatees are found in both freshwater and saltwater environments, while dugongs are strictly marine.\n",
      "\n",
      "7. **Sea Otters**: These playful creatures are known for their thick fur and use of tools to open shellfish. They are found along the coasts of the northern and eastern North Pacific Ocean.\n",
      "\n",
      "8. **Polar Bears**: While primarily terrestrial, polar bears are excellent swimmers and spend much of their time on sea ice hunting seals. They are considered marine mammals due to their dependence on the marine environment.\n",
      "\n",
      "Each of these animals has unique adaptations and behaviors that make them fascinating subjects of study. Happy researching!\n"
     ]
    }
   ],
   "source": [
    "output = graph.invoke({'messages': messages})\n",
    "for m in output['messages']:\n",
    "    m.pretty_print()"
   ]
  },
  {
   "cell_type": "markdown",
   "id": "34c33e63-1ef4-412d-bb10-6a1b9e5b35a7",
   "metadata": {},
   "source": [
    "## Reducer\n",
    "\n",
    "A practical challenge when working with messages is managing long-running conversations. \n",
    "\n",
    "Long-running conversations result in high token usage and latency if we are not careful, because we pass a growing list of messages to the model.\n",
    "\n",
    "We have a few ways to address this.\n",
    "\n",
    "First, recall the trick we saw using `RemoveMessage` and the `add_messages` reducer."
   ]
  },
  {
   "cell_type": "code",
   "execution_count": 11,
   "id": "222c6bc5-bb0e-4a43-80f5-c8ec38d99f3a",
   "metadata": {},
   "outputs": [
    {
     "data": {
      "image/jpeg": "[encoded data removed]",
      "text/plain": [
       "<IPython.core.display.Image object>"
      ]
     },
     "metadata": {},
     "output_type": "display_data"
    }
   ],
   "source": [
    "from langchain_core.messages import RemoveMessage\n",
    "\n",
    "# Nodes\n",
    "def filter_messages(state: MessagesState):\n",
    "    # Delete all but the 2 most recent messages\n",
    "    delete_messages = [RemoveMessage(id=m.id) for m in state[\"messages\"][:-2]]\n",
    "    return {\"messages\": delete_messages}\n",
    "\n",
    "def chat_model_node(state: MessagesState):    \n",
    "    return {\"messages\": [llm.invoke(state[\"messages\"])]}\n",
    "\n",
    "# Build graph\n",
    "builder = StateGraph(MessagesState)\n",
    "builder.add_node(\"filter\", filter_messages)\n",
    "builder.add_node(\"chat_model\", chat_model_node)\n",
    "builder.add_edge(START, \"filter\")\n",
    "builder.add_edge(\"filter\", \"chat_model\")\n",
    "builder.add_edge(\"chat_model\", END)\n",
    "graph = builder.compile()\n",
    "\n",
    "# View\n",
    "display(Image(graph.get_graph().draw_mermaid_png()))"
   ]
  },
  {
   "cell_type": "code",
   "execution_count": 12,
   "id": "95a7c2cc-54ce-43e7-9a90-abf37827d709",
   "metadata": {},
   "outputs": [
    {
     "name": "stderr",
     "output_type": "stream",
     "text": [
      "/tmp/ipykernel_31727/2487060097.py:6: LangChainBetaWarning: The class `RemoveMessage` is in beta. It is actively being worked on, so the API may change.\n",
      "  delete_messages = [RemoveMessage(id=m.id) for m in state[\"messages\"][:-2]]\n"
     ]
    },
    {
     "name": "stdout",
     "output_type": "stream",
     "text": [
      "==================================\u001b[1m Ai Message \u001b[0m==================================\n",
      "Name: Bot\n",
      "\n",
      "So you said you were researching ocean mammals?\n",
      "================================\u001b[1m Human Message \u001b[0m=================================\n",
      "Name: Lance\n",
      "\n",
      "Yes, I know about whales. But what others should I learn about?\n",
      "==================================\u001b[1m Ai Message \u001b[0m==================================\n",
      "\n",
      "That's great! Whales are fascinating, but there are many other ocean mammals worth learning about. Here are a few you might find interesting:\n",
      "\n",
      "1. **Dolphins**: These highly intelligent and social creatures are closely related to whales. They are known for their playful behavior and complex communication skills.\n",
      "\n",
      "2. **Porpoises**: Often confused with dolphins, porpoises are smaller and have different physical characteristics, such as rounded heads and shorter beaks.\n",
      "\n",
      "3. **Seals**: There are many species of seals, including harbor seals, elephant seals, and leopard seals. They spend a lot of time on land or ice but are excellent swimmers.\n",
      "\n",
      "4. **Sea Lions**: Similar to seals, sea lions are more social and have external ear flaps. They are known for their agility in water and their ability to \"walk\" on land using their flippers.\n",
      "\n",
      "5. **Walruses**: Distinguished by their long tusks and whiskered faces, walruses are large marine mammals that inhabit Arctic regions.\n",
      "\n",
      "6. **Manatees and Dugongs**: These gentle giants are often referred to as \"sea cows\" due to their slow-moving, grazing behavior. Manatees are found in the Atlantic, while dugongs inhabit the Indian and Pacific Oceans.\n",
      "\n",
      "7. **Sea Otters**: Known for their playful nature and use of tools, sea otters have the densest fur of any animal, which helps keep them warm in cold ocean waters.\n",
      "\n",
      "8. **Polar Bears**: While primarily land mammals, polar bears are excellent swimmers and depend heavily on the ocean for hunting seals.\n",
      "\n",
      "9. **Narwhals**: Often called the \"unicorns of the sea,\" narwhals are known for their long, spiral tusks, which are actually elongated teeth.\n",
      "\n",
      "10. **Sperm Whales**: The largest toothed predators on Earth, sperm whales are known for their deep diving abilities and complex social structures.\n",
      "\n",
      "Each of these ocean mammals has unique adaptations and behaviors that make them fascinating subjects of study. Happy researching!\n"
     ]
    }
   ],
   "source": [
    "# Message list with a preamble\n",
    "messages = [AIMessage(\"Hi.\", name=\"Bot\", id=\"1\")]\n",
    "messages.append(HumanMessage(\"Hi.\", name=\"Lance\", id=\"2\"))\n",
    "messages.append(AIMessage(\"So you said you were researching ocean mammals?\", name=\"Bot\", id=\"3\"))\n",
    "messages.append(HumanMessage(\"Yes, I know about whales. But what others should I learn about?\", name=\"Lance\", id=\"4\"))\n",
    "\n",
    "# Invoke\n",
    "output = graph.invoke({'messages': messages})\n",
    "for m in output['messages']:\n",
    "    m.pretty_print()"
   ]
  },
  {
   "cell_type": "markdown",
   "id": "f506457d-014b-4fee-a684-e5edfb4b8f0d",
   "metadata": {},
   "source": [
    "## Filtering messages\n",
    "\n",
    "If you don't need or want to modify the graph state, you can just filter the messages you pass to the chat model.\n",
    "\n",
    "For example, just pass in a filtered list: `llm.invoke(messages[-1:])` to the model."
   ]
  },
  {
   "cell_type": "code",
   "execution_count": 13,
   "id": "22d0b904-7cd6-486b-8948-105bee3d4683",
   "metadata": {},
   "outputs": [
    {
     "data": {
      "image/jpeg": "[encoded data removed]",
      "text/plain": [
       "<IPython.core.display.Image object>"
      ]
     },
     "metadata": {},
     "output_type": "display_data"
    }
   ],
   "source": [
    "# Node\n",
    "def chat_model_node(state: MessagesState):\n",
    "    return {\"messages\": [llm.invoke(state[\"messages\"][-1:])]}\n",
    "\n",
    "# Build graph\n",
    "builder = StateGraph(MessagesState)\n",
    "builder.add_node(\"chat_model\", chat_model_node)\n",
    "builder.add_edge(START, \"chat_model\")\n",
    "builder.add_edge(\"chat_model\", END)\n",
    "graph = builder.compile()\n",
    "\n",
    "# View\n",
    "display(Image(graph.get_graph().draw_mermaid_png()))"
   ]
  },
  {
   "cell_type": "markdown",
   "id": "6f58c6fc-532f-418d-b70a-cfcb3307daf5",
   "metadata": {},
   "source": [
    "Let's take our existing list of messages, append the above LLM response, and append a follow-up question."
   ]
  },
  {
   "cell_type": "code",
   "execution_count": 14,
   "id": "16956015-1dbe-4108-89b5-4209b68b51ca",
   "metadata": {},
   "outputs": [],
   "source": [
    "messages.append(output['messages'][-1])\n",
    "messages.append(HumanMessage(f\"Tell me more about Narwhals!\", name=\"Lance\"))"
   ]
  },
  {
   "cell_type": "code",
   "execution_count": 15,
   "id": "85563415-c085-46a8-a4ac-155df798c54e",
   "metadata": {},
   "outputs": [
    {
     "name": "stdout",
     "output_type": "stream",
     "text": [
      "==================================\u001b[1m Ai Message \u001b[0m==================================\n",
      "Name: Bot\n",
      "\n",
      "Hi.\n",
      "================================\u001b[1m Human Message \u001b[0m=================================\n",
      "Name: Lance\n",
      "\n",
      "Hi.\n",
      "==================================\u001b[1m Ai Message \u001b[0m==================================\n",
      "Name: Bot\n",
      "\n",
      "So you said you were researching ocean mammals?\n",
      "================================\u001b[1m Human Message \u001b[0m=================================\n",
      "Name: Lance\n",
      "\n",
      "Yes, I know about whales. But what others should I learn about?\n",
      "==================================\u001b[1m Ai Message \u001b[0m==================================\n",
      "\n",
      "That's great! Whales are fascinating, but there are many other ocean mammals worth learning about. Here are a few you might find interesting:\n",
      "\n",
      "1. **Dolphins**: These highly intelligent and social creatures are closely related to whales. They are known for their playful behavior and complex communication skills.\n",
      "\n",
      "2. **Porpoises**: Often confused with dolphins, porpoises are smaller and have different physical characteristics, such as rounded heads and shorter beaks.\n",
      "\n",
      "3. **Seals**: There are many species of seals, including harbor seals, elephant seals, and leopard seals. They spend a lot of time on land or ice but are excellent swimmers.\n",
      "\n",
      "4. **Sea Lions**: Similar to seals, sea lions are more social and have external ear flaps. They are known for their agility in water and their ability to \"walk\" on land using their flippers.\n",
      "\n",
      "5. **Walruses**: Distinguished by their long tusks and whiskered faces, walruses are large marine mammals that inhabit Arctic regions.\n",
      "\n",
      "6. **Manatees and Dugongs**: These gentle giants are often referred to as \"sea cows\" due to their slow-moving, grazing behavior. Manatees are found in the Atlantic, while dugongs inhabit the Indian and Pacific Oceans.\n",
      "\n",
      "7. **Sea Otters**: Known for their playful nature and use of tools, sea otters have the densest fur of any animal, which helps keep them warm in cold ocean waters.\n",
      "\n",
      "8. **Polar Bears**: While primarily land mammals, polar bears are excellent swimmers and depend heavily on the ocean for hunting seals.\n",
      "\n",
      "9. **Narwhals**: Often called the \"unicorns of the sea,\" narwhals are known for their long, spiral tusks, which are actually elongated teeth.\n",
      "\n",
      "10. **Sperm Whales**: The largest toothed predators on Earth, sperm whales are known for their deep diving abilities and complex social structures.\n",
      "\n",
      "Each of these ocean mammals has unique adaptations and behaviors that make them fascinating subjects of study. Happy researching!\n",
      "================================\u001b[1m Human Message \u001b[0m=================================\n",
      "Name: Lance\n",
      "\n",
      "Tell me more about Narwhals!\n"
     ]
    }
   ],
   "source": [
    "for m in messages:\n",
    "    m.pretty_print()"
   ]
  },
  {
   "cell_type": "code",
   "execution_count": 16,
   "id": "23349705-a059-47b5-9760-d8f64e687393",
   "metadata": {},
   "outputs": [
    {
     "name": "stdout",
     "output_type": "stream",
     "text": [
      "==================================\u001b[1m Ai Message \u001b[0m==================================\n",
      "Name: Bot\n",
      "\n",
      "Hi.\n",
      "================================\u001b[1m Human Message \u001b[0m=================================\n",
      "Name: Lance\n",
      "\n",
      "Hi.\n",
      "==================================\u001b[1m Ai Message \u001b[0m==================================\n",
      "Name: Bot\n",
      "\n",
      "So you said you were researching ocean mammals?\n",
      "================================\u001b[1m Human Message \u001b[0m=================================\n",
      "Name: Lance\n",
      "\n",
      "Yes, I know about whales. But what others should I learn about?\n",
      "==================================\u001b[1m Ai Message \u001b[0m==================================\n",
      "\n",
      "That's great! Whales are fascinating, but there are many other ocean mammals worth learning about. Here are a few you might find interesting:\n",
      "\n",
      "1. **Dolphins**: These highly intelligent and social creatures are closely related to whales. They are known for their playful behavior and complex communication skills.\n",
      "\n",
      "2. **Porpoises**: Often confused with dolphins, porpoises are smaller and have different physical characteristics, such as rounded heads and shorter beaks.\n",
      "\n",
      "3. **Seals**: There are many species of seals, including harbor seals, elephant seals, and leopard seals. They spend a lot of time on land or ice but are excellent swimmers.\n",
      "\n",
      "4. **Sea Lions**: Similar to seals, sea lions are more social and have external ear flaps. They are known for their agility in water and their ability to \"walk\" on land using their flippers.\n",
      "\n",
      "5. **Walruses**: Distinguished by their long tusks and whiskered faces, walruses are large marine mammals that inhabit Arctic regions.\n",
      "\n",
      "6. **Manatees and Dugongs**: These gentle giants are often referred to as \"sea cows\" due to their slow-moving, grazing behavior. Manatees are found in the Atlantic, while dugongs inhabit the Indian and Pacific Oceans.\n",
      "\n",
      "7. **Sea Otters**: Known for their playful nature and use of tools, sea otters have the densest fur of any animal, which helps keep them warm in cold ocean waters.\n",
      "\n",
      "8. **Polar Bears**: While primarily land mammals, polar bears are excellent swimmers and depend heavily on the ocean for hunting seals.\n",
      "\n",
      "9. **Narwhals**: Often called the \"unicorns of the sea,\" narwhals are known for their long, spiral tusks, which are actually elongated teeth.\n",
      "\n",
      "10. **Sperm Whales**: The largest toothed predators on Earth, sperm whales are known for their deep diving abilities and complex social structures.\n",
      "\n",
      "Each of these ocean mammals has unique adaptations and behaviors that make them fascinating subjects of study. Happy researching!\n",
      "================================\u001b[1m Human Message \u001b[0m=================================\n",
      "Name: Lance\n",
      "\n",
      "Tell me more about Narwhals!\n",
      "==================================\u001b[1m Ai Message \u001b[0m==================================\n",
      "\n",
      "Certainly! Narwhals (Monodon monoceros) are fascinating marine mammals best known for their long, spiral tusks that resemble a unicorn's horn. Here are some key details about these intriguing creatures:\n",
      "\n",
      "### Physical Characteristics\n",
      "- **Tusks**: The most distinctive feature of the narwhal is the long tusk, which is actually an elongated upper left canine tooth. In males, this tusk can grow up to 10 feet (3 meters) long. Around 15% of females also grow a tusk, but it is usually shorter and less prominent.\n",
      "- **Size**: Adult narwhals typically range from 13 to 20 feet (4 to 6 meters) in length, not including the tusk. They can weigh between 1,800 to 3,500 pounds (800 to 1,600 kilograms).\n",
      "- **Color**: Narwhals are born a mottled blue-gray color, which darkens as they age. Older narwhals are often almost entirely black, while old adult males are typically white with a few black spots.\n",
      "\n",
      "### Habitat\n",
      "- **Arctic Waters**: Narwhals inhabit the cold waters of the Arctic, particularly around Greenland, Canada, and Russia. They are well-adapted to life in icy environments and migrate seasonally between coastal summering grounds and deeper offshore wintering areas.\n",
      "\n",
      "### Behavior and Diet\n",
      "- **Diving**: Narwhals are deep divers and can reach depths of up to 5,000 feet (1,500 meters) in search of food. They use echolocation to navigate and hunt in the dark, deep waters.\n",
      "- **Diet**: Their diet mainly consists of fish, squid, and shrimp. Greenland halibut, Arctic cod, and cuttlefish are some of their preferred prey.\n",
      "- **Social Structure**: Narwhals are social animals and are often found in groups called pods, typically consisting of 10 to 20 individuals, although larger gatherings can occur.\n",
      "\n",
      "### Reproduction\n",
      "- **Breeding**: Narwhals mate in the spring, and after a gestation period of about 14 months, females give birth to a single calf. Calves are usually born in shallow, ice-free coastal waters during the summer months.\n",
      "\n",
      "### Conservation Status\n",
      "- **Threats**: Narwhals face several threats, including climate change, which affects their icy habitat, and human activities such as shipping, oil and gas exploration, and hunting.\n",
      "- **Conservation Efforts**: Various conservation programs aim to monitor and protect narwhal populations, but more research is needed to fully understand their ecology and the impact of environmental changes on their survival.\n",
      "\n",
      "### Cultural Significance\n",
      "- **Indigenous Peoples**: Narwhals hold cultural importance for Indigenous Arctic communities, who have traditionally hunted them for their meat, blubber, and tusks. The tusks were historically traded and sometimes believed to possess magical properties.\n",
      "\n",
      "Narwhals continue to captivate scientists and the public alike with their unique appearance and mysterious deep-sea lives. Their role in Arctic ecosystems and the challenges they face make them an important species for conservation efforts.\n"
     ]
    }
   ],
   "source": [
    "# Invoke, using message filtering\n",
    "output = graph.invoke({'messages': messages})\n",
    "for m in output['messages']:\n",
    "    m.pretty_print()"
   ]
  },
  {
   "cell_type": "markdown",
   "id": "42e1d8d2-e297-4d78-b54c-d12b3c866745",
   "metadata": {},
   "source": [
    "The state has all of the mesages.\n",
    "\n",
    "But, let's look at the LangSmith trace to see that the model invocation only uses the last message:\n",
    "\n",
    "https://smith.langchain.com/public/75aca3ce-ef19-4b92-94be-0178c7a660d9/r"
   ]
  },
  {
   "cell_type": "markdown",
   "id": "fc40d930-3c1f-47fe-8d2a-ce174873353c",
   "metadata": {},
   "source": [
    "## Trim messages\n",
    "\n",
    "Another approach is to [trim messages](https://python.langchain.com/v0.2/docs/how_to/trim_messages/#getting-the-last-max_tokens-tokens), based upon a set number of tokens. \n",
    "\n",
    "This restricts the message history to a specified number of tokens.\n",
    "\n",
    "While filtering only returns a post-hoc subset of the messages between agents, trimming restricts the number of tokens that a chat model can use to respond.\n",
    "\n",
    "See the `trim_messages` below."
   ]
  },
  {
   "cell_type": "code",
   "execution_count": 17,
   "id": "2ff99b81-cf03-4cc2-b44f-44829a73e1fd",
   "metadata": {},
   "outputs": [
    {
     "data": {
      "image/jpeg": "[encoded data removed]",
      "text/plain": [
       "<IPython.core.display.Image object>"
      ]
     },
     "metadata": {},
     "output_type": "display_data"
    }
   ],
   "source": [
    "from langchain_core.messages import trim_messages\n",
    "\n",
    "# Node\n",
    "def chat_model_node(state: MessagesState):\n",
    "    messages = trim_messages(\n",
    "            state[\"messages\"],\n",
    "            max_tokens=100,\n",
    "            strategy=\"last\",\n",
    "            token_counter=ChatOpenAI(model=\"gpt-4o\"),\n",
    "            allow_partial=False,\n",
    "        )\n",
    "    return {\"messages\": [llm.invoke(messages)]}\n",
    "\n",
    "# Build graph\n",
    "builder = StateGraph(MessagesState)\n",
    "builder.add_node(\"chat_model\", chat_model_node)\n",
    "builder.add_edge(START, \"chat_model\")\n",
    "builder.add_edge(\"chat_model\", END)\n",
    "graph = builder.compile()\n",
    "\n",
    "# View\n",
    "display(Image(graph.get_graph().draw_mermaid_png()))"
   ]
  },
  {
   "cell_type": "code",
   "execution_count": 19,
   "id": "24df63ac-da29-4874-b3df-7e390e97cc8a",
   "metadata": {},
   "outputs": [],
   "source": [
    "messages.append(output['messages'][-1])\n",
    "messages.append(HumanMessage(f\"Tell me where Orcas live!\", name=\"Lance\"))"
   ]
  },
  {
   "cell_type": "code",
   "execution_count": 20,
   "id": "6d9d8971-c75c-43ca-a209-eb1d07b2ead0",
   "metadata": {},
   "outputs": [
    {
     "data": {
      "text/plain": [
       "[HumanMessage(content='Tell me where Orcas live!', name='Lance')]"
      ]
     },
     "execution_count": 20,
     "metadata": {},
     "output_type": "execute_result"
    }
   ],
   "source": [
    "trim_messages(\n",
    "            messages,\n",
    "            max_tokens=100,\n",
    "            strategy=\"last\",\n",
    "            token_counter=ChatOpenAI(model=\"gpt-4o\"),\n",
    "            allow_partial=False\n",
    ")"
   ]
  },
  {
   "cell_type": "code",
   "execution_count": 21,
   "id": "ed70a269-a869-4fa0-a1df-29736a432c51",
   "metadata": {},
   "outputs": [],
   "source": [
    "# Invoke, using message trimming\n",
    "messages_out_trim = graph.invoke({'messages': messages})"
   ]
  },
  {
   "cell_type": "markdown",
   "id": "38b3db67-380e-46b5-9a6a-20100ba52008",
   "metadata": {},
   "source": [
    "Let's look at the LangSmith trace to see the model invocation:\n",
    "\n",
    "https://smith.langchain.com/public/b153f7e9-f1a5-4d60-8074-f0d7ab5b42ef/r"
   ]
  }
 ],
 "metadata": {
  "kernelspec": {
   "display_name": "Python 3 (ipykernel)",
   "language": "python",
   "name": "python3"
  },
  "language_info": {
   "codemirror_mode": {
    "name": "ipython",
    "version": 3
   },
   "file_extension": ".py",
   "mimetype": "text/x-python",
   "name": "python",
   "nbconvert_exporter": "python",
   "pygments_lexer": "ipython3",
   "version": "3.12.5"
  }
 },
 "nbformat": 4,
 "nbformat_minor": 5
}
